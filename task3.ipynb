{
 "cells": [
  {
   "cell_type": "code",
   "execution_count": null,
   "metadata": {},
   "outputs": [],
   "source": []
  },
  {
   "cell_type": "code",
   "execution_count": 1,
   "metadata": {},
   "outputs": [
    {
     "name": "stderr",
     "output_type": "stream",
     "text": [
      "[nltk_data] Downloading package punkt to\n",
      "[nltk_data]     C:\\Users\\sapni\\AppData\\Roaming\\nltk_data...\n",
      "[nltk_data]   Package punkt is already up-to-date!\n"
     ]
    },
    {
     "name": "stdout",
     "output_type": "stream",
     "text": [
      "Welcome to the Castle Swimmer Chatbot!\n",
      "You can ask me questions like 'What is Castle Swimmer about?' or 'Who are the main characters?'\n",
      "Type 'exit' to end the chat.\n",
      "Debug: Tokens from user input - ['exi']\n",
      "Chatbot: I'm not sure about that. Can you ask something else related to Castle Swimmer?\n",
      "Chatbot: Goodbye! Hope you enjoy Castle Swimmer!\n"
     ]
    }
   ],
   "source": [
    "import nltk\n",
    "from nltk.tokenize import word_tokenize\n",
    "\n",
    "# Download necessary NLTK resources\n",
    "nltk.download('punkt')\n",
    "\n",
    "# Define the knowledge base for the chatbot\n",
    "responses = {\n",
    "    \"castle swimmer\": \"Castle Swimmer is a webcomic that revolves around Kappa, a beacon who fulfills prophecies, and Siren, a prince destined by prophecy to kill Kappa.\",\n",
    "    \"main characters\": \"The main characters of Castle Swimmer are Kappa, the beacon, and Siren, the prince of the Shark Kingdom.\",\n",
    "    \"kappa\": \"Kappa is the Beacon in Castle Swimmer, someone who is destined to fulfill various prophecies.\",\n",
    "    \"siren\": \"Siren is the prince of the Shark Kingdom, whose prophecy says he must kill the Beacon to save his people.\",\n",
    "    \"prophecy\": \"The prophecy plays a crucial role in Castle Swimmer. It dictates that Siren must kill the Beacon, but things get complicated as the two characters develop a bond.\",\n",
    "    \"chapter 83\": \"In Chapter 83 of Castle Swimmer, the tension rises as Kappa and Siren face new challenges related to their destinies.\",\n",
    "    \"chapter 84\": \"Chapter 84 continues the story with Kappa trying to understand the true meaning of his role as the Beacon.\",\n",
    "    \"chapter 85\": \"In Chapter 85, Siren grapples with his feelings and the responsibility of his prophecy.\",\n",
    "    \"chapter 86\": \"Chapter 86 reveals more about the mysterious prophecy and the conflicts it creates between Kappa and Siren.\",\n",
    "    \"chapter 87\": \"Chapter 87 explores the growing bond between Kappa and Siren and the difficult choices they must make.\",\n",
    "    \"chapter 88\": \"In Chapter 88, tensions reach a peak as Siren and Kappa face the implications of defying their destinies.\",\n",
    "    \"chapter 89\": \"Chapter 89 brings a turning point, with new revelations about the prophecy that could change everything.\"\n",
    "}\n",
    "\n",
    "# Function to process user input and return responses\n",
    "def get_response(user_input):\n",
    "    # Tokenize user input\n",
    "    tokens = word_tokenize(user_input.lower())\n",
    "    print(f\"Debug: Tokens from user input - {tokens}\")  # Debugging print\n",
    "    \n",
    "    # Check if any keyword is found in the user's input\n",
    "    for keyword, response in responses.items():\n",
    "        if keyword in user_input.lower() or any(keyword in token for token in tokens):\n",
    "            return response\n",
    "    \n",
    "    # Default response if no keywords are found\n",
    "    return \"I'm not sure about that. Can you ask something else related to Castle Swimmer?\"\n",
    "\n",
    "# Run the chatbot\n",
    "print(\"Welcome to the Castle Swimmer Chatbot!\")\n",
    "print(\"You can ask me questions like 'What is Castle Swimmer about?' or 'Who are the main characters?'\")\n",
    "print(\"Type 'exit' to end the chat.\")\n",
    "\n",
    "while True:\n",
    "    user_input = input(\"\\nYou: \")\n",
    "    if user_input.lower() == 'exit':\n",
    "        print(\"Chatbot: Goodbye! Hope you enjoy Castle Swimmer!\")\n",
    "        break\n",
    "    \n",
    "    response = get_response(user_input)\n",
    "    print(f\"Chatbot: {response}\")\n"
   ]
  }
 ],
 "metadata": {
  "kernelspec": {
   "display_name": "base",
   "language": "python",
   "name": "python3"
  },
  "language_info": {
   "codemirror_mode": {
    "name": "ipython",
    "version": 3
   },
   "file_extension": ".py",
   "mimetype": "text/x-python",
   "name": "python",
   "nbconvert_exporter": "python",
   "pygments_lexer": "ipython3",
   "version": "3.9.13"
  }
 },
 "nbformat": 4,
 "nbformat_minor": 2
}
