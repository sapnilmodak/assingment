{
 "cells": [
  {
   "cell_type": "code",
   "execution_count": 1,
   "metadata": {},
   "outputs": [
    {
     "name": "stdout",
     "output_type": "stream",
     "text": [
      "Model accuracy: 0.00%\n",
      "Description: A young couple navigates the challenges of high school romance.\n",
      "Predicted Category: romance\n",
      "\n",
      "Description: A warrior rises to save his land from dark forces.\n",
      "Predicted Category: romance\n",
      "\n",
      "Description: A vigilante targets the city's corrupt officials.\n",
      "Predicted Category: romance\n",
      "\n"
     ]
    }
   ],
   "source": [
    "import pandas as pd\n",
    "from sklearn.feature_extraction.text import TfidfVectorizer\n",
    "from sklearn.model_selection import train_test_split\n",
    "from sklearn.tree import DecisionTreeClassifier\n",
    "from sklearn.metrics import accuracy_score\n",
    "\n",
    "# Sample dataset\n",
    "data = [\n",
    "    {\"description\": \"A high school love story where a shy girl falls for the popular guy.\", \"category\": \"romance\"},\n",
    "    {\"description\": \"An epic battle between warriors to save the fantasy kingdom.\", \"category\": \"fantasy\"},\n",
    "    {\"description\": \"A superhero gains powers and fights against a criminal organization.\", \"category\": \"action\"},\n",
    "    {\"description\": \"Two souls meet through fate and uncover their past lives together.\", \"category\": \"romance\"},\n",
    "    {\"description\": \"A detective uncovers secrets in a haunted town full of mystery.\", \"category\": \"fantasy\"},\n",
    "    {\"description\": \"A martial artist seeks revenge against those who betrayed him.\", \"category\": \"action\"},\n",
    "    {\"description\": \"A heartwarming story of childhood friends becoming lovers.\", \"category\": \"romance\"},\n",
    "    {\"description\": \"Magic and creatures clash in a world where humans fight for survival.\", \"category\": \"fantasy\"},\n",
    "    {\"description\": \"A mysterious figure emerges, taking down crime syndicates one by one.\", \"category\": \"action\"},\n",
    "    {\"description\": \"Two rivals compete in a prestigious art school and discover hidden feelings.\", \"category\": \"romance\"}\n",
    "]\n",
    "\n",
    "# Convert data to DataFrame\n",
    "df = pd.DataFrame(data)\n",
    "\n",
    "# Extract features and labels\n",
    "X = df['description']\n",
    "y = df['category']\n",
    "\n",
    "# Convert text to numerical data using TF-IDF\n",
    "vectorizer = TfidfVectorizer()\n",
    "X_tfidf = vectorizer.fit_transform(X)\n",
    "\n",
    "# Split into training and testing sets\n",
    "X_train, X_test, y_train, y_test = train_test_split(X_tfidf, y, test_size=0.2, random_state=42)\n",
    "\n",
    "# Train the Decision Tree Classifier\n",
    "classifier = DecisionTreeClassifier(random_state=42)\n",
    "classifier.fit(X_train, y_train)\n",
    "\n",
    "# Make predictions and evaluate\n",
    "y_pred = classifier.predict(X_test)\n",
    "accuracy = accuracy_score(y_test, y_pred)\n",
    "print(f\"Model accuracy: {accuracy * 100:.2f}%\")\n",
    "\n",
    "# Classify new descriptions\n",
    "new_descriptions = [\n",
    "    \"A young couple navigates the challenges of high school romance.\",\n",
    "    \"A warrior rises to save his land from dark forces.\",\n",
    "    \"A vigilante targets the city's corrupt officials.\"\n",
    "]\n",
    "new_descriptions_tfidf = vectorizer.transform(new_descriptions)\n",
    "predictions = classifier.predict(new_descriptions_tfidf)\n",
    "\n",
    "# Display predictions\n",
    "for desc, category in zip(new_descriptions, predictions):\n",
    "    print(f\"Description: {desc}\\nPredicted Category: {category}\\n\")\n"
   ]
  }
 ],
 "metadata": {
  "kernelspec": {
   "display_name": "base",
   "language": "python",
   "name": "python3"
  },
  "language_info": {
   "codemirror_mode": {
    "name": "ipython",
    "version": 3
   },
   "file_extension": ".py",
   "mimetype": "text/x-python",
   "name": "python",
   "nbconvert_exporter": "python",
   "pygments_lexer": "ipython3",
   "version": "3.9.13"
  }
 },
 "nbformat": 4,
 "nbformat_minor": 2
}
