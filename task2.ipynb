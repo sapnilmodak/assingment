{
 "cells": [
  {
   "cell_type": "code",
   "execution_count": 1,
   "metadata": {},
   "outputs": [
    {
     "name": "stdout",
     "output_type": "stream",
     "text": [
      "Collecting textblob\n",
      "  Downloading textblob-0.18.0.post0-py3-none-any.whl (626 kB)\n",
      "     -------------------------------------- 626.3/626.3 kB 2.8 MB/s eta 0:00:00\n",
      "Collecting nltk>=3.8\n",
      "  Downloading nltk-3.9.1-py3-none-any.whl (1.5 MB)\n",
      "     ---------------------------------------- 1.5/1.5 MB 3.8 MB/s eta 0:00:00\n",
      "Requirement already satisfied: click in c:\\users\\sapni\\anaconda3\\lib\\site-packages (from nltk>=3.8->textblob) (8.0.4)\n",
      "Requirement already satisfied: tqdm in c:\\users\\sapni\\anaconda3\\lib\\site-packages (from nltk>=3.8->textblob) (4.64.1)\n",
      "Requirement already satisfied: regex>=2021.8.3 in c:\\users\\sapni\\anaconda3\\lib\\site-packages (from nltk>=3.8->textblob) (2022.7.9)\n",
      "Requirement already satisfied: joblib in c:\\users\\sapni\\anaconda3\\lib\\site-packages (from nltk>=3.8->textblob) (1.1.0)\n",
      "Requirement already satisfied: colorama in c:\\users\\sapni\\anaconda3\\lib\\site-packages (from click->nltk>=3.8->textblob) (0.4.5)\n",
      "Installing collected packages: nltk, textblob\n",
      "  Attempting uninstall: nltk\n",
      "    Found existing installation: nltk 3.7\n",
      "    Uninstalling nltk-3.7:\n",
      "      Successfully uninstalled nltk-3.7\n",
      "Successfully installed nltk-3.9.1 textblob-0.18.0.post0\n",
      "Note: you may need to restart the kernel to use updated packages.\n"
     ]
    }
   ],
   "source": [
    "pip install textblob\n"
   ]
  },
  {
   "cell_type": "code",
   "execution_count": 2,
   "metadata": {},
   "outputs": [],
   "source": [
    "comments = [\n",
    "    \"I love how manga is more detailed with character emotions!\",\n",
    "    \"Manhwa has better art styles, but sometimes the story feels rushed.\",\n",
    "    \"I don't understand the hype around manhwa, it's not as good as manga.\",\n",
    "    \"Both manga and manhwa are amazing in their own ways!\",\n",
    "    \"Manga's black-and-white style makes it more authentic to me.\",\n",
    "    \"Manhwa's colored pages are so much more engaging.\",\n",
    "    \"I really dislike how manhwa stories are always the same.\",\n",
    "    \"Manga has a rich history and depth in its storytelling.\",\n",
    "    \"Manhwa is so repetitive, it's boring.\",\n",
    "    \"I enjoy both, but manga tends to have better pacing.\",\n",
    "    \"Manhwa is refreshing compared to manga!\",\n",
    "    \"Manga will always be better, no contest.\",\n",
    "    \"Manhwa is a breath of fresh air, love the art and style!\",\n",
    "    \"The storylines in manga are often more developed.\",\n",
    "    \"Manhwa brings a new perspective, but I prefer the traditional manga feel.\"\n",
    "]\n"
   ]
  },
  {
   "cell_type": "code",
   "execution_count": 3,
   "metadata": {},
   "outputs": [
    {
     "name": "stdout",
     "output_type": "stream",
     "text": [
      "Total comments analyzed: 15\n",
      "Positive comments: 93.33%\n",
      "Negative comments: 6.67%\n",
      "Neutral comments: 0.00%\n"
     ]
    }
   ],
   "source": [
    "from textblob import TextBlob\n",
    "\n",
    "# Function to analyze the sentiment of each comment\n",
    "def analyze_sentiment(comment):\n",
    "    analysis = TextBlob(comment)\n",
    "    # Determine if the sentiment is positive, negative, or neutral\n",
    "    if analysis.sentiment.polarity > 0:\n",
    "        return 'positive'\n",
    "    elif analysis.sentiment.polarity < 0:\n",
    "        return 'negative'\n",
    "    else:\n",
    "        return 'neutral'\n",
    "\n",
    "# Apply the function to each comment\n",
    "sentiment_results = [analyze_sentiment(comment) for comment in comments]\n",
    "\n",
    "# Count the occurrences of each sentiment\n",
    "positive_count = sentiment_results.count('positive')\n",
    "negative_count = sentiment_results.count('negative')\n",
    "neutral_count = sentiment_results.count('neutral')\n",
    "\n",
    "# Calculate the percentages\n",
    "total_comments = len(comments)\n",
    "positive_percentage = (positive_count / total_comments) * 100\n",
    "negative_percentage = (negative_count / total_comments) * 100\n",
    "neutral_percentage = (neutral_count / total_comments) * 100\n",
    "\n",
    "# Print out the results\n",
    "print(f\"Total comments analyzed: {total_comments}\")\n",
    "print(f\"Positive comments: {positive_percentage:.2f}%\")\n",
    "print(f\"Negative comments: {negative_percentage:.2f}%\")\n",
    "print(f\"Neutral comments: {neutral_percentage:.2f}%\")\n"
   ]
  },
  {
   "cell_type": "code",
   "execution_count": null,
   "metadata": {},
   "outputs": [],
   "source": []
  }
 ],
 "metadata": {
  "kernelspec": {
   "display_name": "base",
   "language": "python",
   "name": "python3"
  },
  "language_info": {
   "codemirror_mode": {
    "name": "ipython",
    "version": 3
   },
   "file_extension": ".py",
   "mimetype": "text/x-python",
   "name": "python",
   "nbconvert_exporter": "python",
   "pygments_lexer": "ipython3",
   "version": "3.9.13"
  }
 },
 "nbformat": 4,
 "nbformat_minor": 2
}
